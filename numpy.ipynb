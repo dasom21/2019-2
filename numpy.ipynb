{
 "cells": [
  {
   "cell_type": "markdown",
   "metadata": {},
   "source": [
    "# <중간>"
   ]
  },
  {
   "cell_type": "markdown",
   "metadata": {},
   "source": [
    "# 11번"
   ]
  },
  {
   "cell_type": "code",
   "execution_count": 1,
   "metadata": {},
   "outputs": [
    {
     "name": "stdout",
     "output_type": "stream",
     "text": [
      "6\n"
     ]
    }
   ],
   "source": [
    "a = [[1],[2,3],[4,5,6]]\n",
    "n = 0\n",
    "for b in a:\n",
    "    for d in b:\n",
    "        n += 1\n",
    "print(n)"
   ]
  },
  {
   "cell_type": "markdown",
   "metadata": {},
   "source": [
    "n은 counter의 역할, 몇번 하는지\n",
    "\n",
    "n이 하나씩 올라가, 총 몇번을 거쳐 도달하는가.\n",
    "\n",
    "     for d in b:\n",
    "          n += 1\n",
    "\n",
    "안쪽 for루프가 실행될때마다 n이 1씩 증가\n",
    "\n",
    "(n이라는 변수에 숫자 0을 assign\n",
    " n+=1은 n=n+1을 의미하므로 n은 0,1,2,....로 하나씩 커짐)\n",
    "\n",
    "b가 [1]일 때 한번, b가 [2,3]일 때 2번, b가 [4,5,6]일 때 3번\n",
    "돌아 총 6번 도는 것\n",
    "\n",
    "* indent하고 print(n)하면 \"마지막 값\"만 출력"
   ]
  },
  {
   "cell_type": "code",
   "execution_count": 2,
   "metadata": {},
   "outputs": [
    {
     "name": "stdout",
     "output_type": "stream",
     "text": [
      "1\n",
      "2\n",
      "3\n",
      "4\n",
      "5\n",
      "6\n"
     ]
    }
   ],
   "source": [
    "a = [[1],[2,3],[4,5,6]]\n",
    "n = 0\n",
    "for b in a:\n",
    "    for d in b:\n",
    "        n += 1\n",
    "        print(n)"
   ]
  },
  {
   "cell_type": "markdown",
   "metadata": {},
   "source": [
    "print(n)이 indent로 for루프 안에 존재한다면 \"모든 과정\"이 출력됨"
   ]
  },
  {
   "cell_type": "markdown",
   "metadata": {},
   "source": [
    "# 16번"
   ]
  },
  {
   "cell_type": "code",
   "execution_count": 10,
   "metadata": {},
   "outputs": [
    {
     "name": "stdout",
     "output_type": "stream",
     "text": [
      "h\n"
     ]
    }
   ],
   "source": [
    "d = ['th', 's']\n",
    "print('i'.join(d)[-3])"
   ]
  },
  {
   "cell_type": "markdown",
   "metadata": {},
   "source": [
    "# 18번"
   ]
  },
  {
   "cell_type": "code",
   "execution_count": 4,
   "metadata": {},
   "outputs": [
    {
     "name": "stdout",
     "output_type": "stream",
     "text": [
      "14\n"
     ]
    }
   ],
   "source": [
    "t = 0\n",
    "for p in range(3):\n",
    "    if p <=1:\n",
    "        for q in range(4):\n",
    "            t += q\n",
    "        for r in range(2):\n",
    "            t += r\n",
    "print(t*r)"
   ]
  },
  {
   "cell_type": "markdown",
   "metadata": {},
   "source": [
    "(주의)\n",
    "\n",
    "t += q와 t+=r의 의미(쌓여가는것)\n",
    "\n",
    "두개의 inner for 루프 값을 더하는 것.\n",
    "\n",
    "q * r이 아니라 t * r"
   ]
  },
  {
   "cell_type": "markdown",
   "metadata": {},
   "source": [
    "(해설)\n",
    "\n",
    "range(3)하면 p는 0,1,2로 3번 돎 / if조건문에서 p가 1보다 작거나 같을 때만 이므로, 0과 1만 통과되어 총 2번 돌게 됨\n",
    "\n",
    "\n",
    "1) 먼저, p가 0일 때\n",
    "\n",
    "   첫번째 for루프에서 range(4)하면 q는 0,1,2,3으로 4번 돎 \n",
    "    \n",
    "    t = t + q의 의미(q1가 0이므로 t=0 / q2가 1이므로 t = q1 + q2=1 / q3이 2이므로 t = 1 + q3 = 3 / q4가 3이므로 t = 3 + q4 = 6 )\n",
    "    \n",
    "      -> 결국 6\n",
    "    \n",
    "   두번째 for루프에서 range(2)하면 r은 0,1로 2번 돎.\n",
    "   \n",
    "    t = t + r의 의미(r1이 0이므로 t=0 / r2가 1이므로 t = r1 + r2 = 0 + 1 = 1)\n",
    "\n",
    "     -> 결국 1\n",
    "    \n",
    "=> 7이 나옴\n",
    "\n",
    "2) p가 1일 때도 마찬가지로 7이 나오므로 \n",
    "\n",
    "결국 답은 14\n"
   ]
  },
  {
   "cell_type": "code",
   "execution_count": 5,
   "metadata": {},
   "outputs": [
    {
     "name": "stdout",
     "output_type": "stream",
     "text": [
      "12\n"
     ]
    }
   ],
   "source": [
    "t = 0\n",
    "for p in range(3):\n",
    "    if p <=1:\n",
    "        for q in range(4):\n",
    "            t += q \n",
    "print(t)"
   ]
  },
  {
   "cell_type": "code",
   "execution_count": 6,
   "metadata": {},
   "outputs": [
    {
     "name": "stdout",
     "output_type": "stream",
     "text": [
      "6\n"
     ]
    }
   ],
   "source": [
    "t = 0\n",
    "for q in range(4):\n",
    "            t += q \n",
    "print(t)"
   ]
  },
  {
   "cell_type": "code",
   "execution_count": 9,
   "metadata": {},
   "outputs": [
    {
     "name": "stdout",
     "output_type": "stream",
     "text": [
      "2\n"
     ]
    }
   ],
   "source": [
    "t = 0\n",
    "for p in range(3):\n",
    "    if p <=1:\n",
    "        for r in range(2):\n",
    "            t += r\n",
    "print(t*r)"
   ]
  },
  {
   "cell_type": "code",
   "execution_count": 8,
   "metadata": {},
   "outputs": [
    {
     "name": "stdout",
     "output_type": "stream",
     "text": [
      "1\n"
     ]
    }
   ],
   "source": [
    "t = 0\n",
    "for r in range(2):\n",
    "            t += r\n",
    "print(r)"
   ]
  },
  {
   "cell_type": "markdown",
   "metadata": {},
   "source": [
    "#  < Numpy >"
   ]
  },
  {
   "cell_type": "markdown",
   "metadata": {},
   "source": [
    "Numpy는 중요한 library 중 하나 (list 중에서도 그 안에 숫자가 들어갈 때)"
   ]
  },
  {
   "cell_type": "code",
   "execution_count": 13,
   "metadata": {
    "scrolled": true
   },
   "outputs": [
    {
     "data": {
      "text/plain": [
       "[1, 3, 5, 2, 4, 6]"
      ]
     },
     "execution_count": 13,
     "metadata": {},
     "output_type": "execute_result"
    }
   ],
   "source": [
    "a = [1, 3, 5]\n",
    "b = [2, 4, 6]\n",
    "c = a+b\n",
    "c"
   ]
  },
  {
   "cell_type": "markdown",
   "metadata": {},
   "source": [
    "list의 상태에서는 어떠한 수학적인 실행도 취해지지 않음.\n",
    "\n",
    "수학적 처리하기 위해선 numpy사용해야 함."
   ]
  },
  {
   "cell_type": "code",
   "execution_count": 14,
   "metadata": {},
   "outputs": [],
   "source": [
    "import numpy "
   ]
  },
  {
   "cell_type": "markdown",
   "metadata": {},
   "source": [
    "numpy 사용하려면 import해야 함"
   ]
  },
  {
   "cell_type": "code",
   "execution_count": 15,
   "metadata": {},
   "outputs": [],
   "source": [
    "A = numpy.array(a)\n",
    "B = numpy.array(b)"
   ]
  },
  {
   "cell_type": "markdown",
   "metadata": {},
   "source": [
    "array 함수: 계산할 수 있는 것으로 바꾸어 주는 것. \n",
    "\n",
    "array를 사용해야 list에서 계산 가능한 걸로 바꿔줌. (list를 array로 만들어주는 것)"
   ]
  },
  {
   "cell_type": "code",
   "execution_count": 16,
   "metadata": {
    "scrolled": true
   },
   "outputs": [
    {
     "data": {
      "text/plain": [
       "[1, 3, 5, 2, 4, 6]"
      ]
     },
     "execution_count": 16,
     "metadata": {},
     "output_type": "execute_result"
    }
   ],
   "source": [
    "a + b"
   ]
  },
  {
   "cell_type": "code",
   "execution_count": 17,
   "metadata": {},
   "outputs": [
    {
     "data": {
      "text/plain": [
       "array([ 3,  7, 11])"
      ]
     },
     "execution_count": 17,
     "metadata": {},
     "output_type": "execute_result"
    }
   ],
   "source": [
    "A + B"
   ]
  },
  {
   "cell_type": "code",
   "execution_count": 15,
   "metadata": {},
   "outputs": [
    {
     "data": {
      "text/plain": [
       "numpy.ndarray"
      ]
     },
     "execution_count": 15,
     "metadata": {},
     "output_type": "execute_result"
    }
   ],
   "source": [
    "type(A)"
   ]
  },
  {
   "cell_type": "code",
   "execution_count": 19,
   "metadata": {},
   "outputs": [],
   "source": [
    "import numpy as np"
   ]
  },
  {
   "cell_type": "markdown",
   "metadata": {},
   "source": [
    "numpy를 np로 줄여쓰기 위해"
   ]
  },
  {
   "cell_type": "code",
   "execution_count": 20,
   "metadata": {},
   "outputs": [],
   "source": [
    "A = np.array(a)\n",
    "B = np.array(b)"
   ]
  },
  {
   "cell_type": "code",
   "execution_count": 21,
   "metadata": {},
   "outputs": [],
   "source": [
    "X = np.array([[1,2,3],[4,5,6]])"
   ]
  },
  {
   "cell_type": "markdown",
   "metadata": {},
   "source": [
    "큰 list와 작은 list가 존재"
   ]
  },
  {
   "cell_type": "code",
   "execution_count": 22,
   "metadata": {},
   "outputs": [
    {
     "data": {
      "text/plain": [
       "array([[1, 2, 3],\n",
       "       [4, 5, 6]])"
      ]
     },
     "execution_count": 22,
     "metadata": {},
     "output_type": "execute_result"
    }
   ],
   "source": [
    "X"
   ]
  },
  {
   "cell_type": "code",
   "execution_count": 25,
   "metadata": {},
   "outputs": [
    {
     "data": {
      "text/plain": [
       "(2, 3)"
      ]
     },
     "execution_count": 25,
     "metadata": {},
     "output_type": "execute_result"
    }
   ],
   "source": [
    "X.shape    # 2 by 3 tuple이  행이 2줄, 열이 3줄인 '행렬(matrix)'을 의미"
   ]
  },
  {
   "cell_type": "markdown",
   "metadata": {},
   "source": [
    "# 1. Creation"
   ]
  },
  {
   "cell_type": "code",
   "execution_count": 30,
   "metadata": {},
   "outputs": [],
   "source": [
    "import numpy as np\n",
    "import matplotlib.pyplot as plt\n",
    "\n",
    "from matplotlib import pyplot as plt  \n",
    "# 쓸 수 있는 방법 중 틀린 것 골라라 (시험문제)\n",
    " # from을 사용한 다른 방법"
   ]
  },
  {
   "cell_type": "markdown",
   "metadata": {},
   "source": [
    "as로 줄여서 안쓰면 늘 numpy라고 써야 함.\n",
    "\n",
    "import matplotlib.pyplot as plt\n",
    "\n",
    "-> 큰 함수 matplotlib에 포함되어 있는 pyplot을 plt로.\n",
    "\n",
    ".(dot)는 '포함관계'로 되어있음\n",
    "\n",
    "\n",
    "***시험문제 : 쓸 수있는 방법 중 틀린 것 골라라\n",
    "\n",
    "from matplotlib import pyplot as plt"
   ]
  },
  {
   "cell_type": "code",
   "execution_count": 31,
   "metadata": {},
   "outputs": [
    {
     "data": {
      "text/plain": [
       "array([[586460688,       453,         0],\n",
       "       [        0,    131074,         0]])"
      ]
     },
     "execution_count": 31,
     "metadata": {},
     "output_type": "execute_result"
    }
   ],
   "source": [
    "np.empty([2,3], dtype='int')"
   ]
  },
  {
   "cell_type": "markdown",
   "metadata": {},
   "source": [
    "np라는 가장 큰 library 속의 하나가 empty일 것.\n",
    "\n",
    "입력이 'list'로 들어감.\n",
    "\n",
    "two by three의 array. (행렬 - 2행 3열의 직사각형) / 3개짜리 list가 2줄.\n",
    "\n",
    "내부적으로 들어가는 것인 dtype(data type)을 int로 만들어라.\n",
    "\n",
    "-> 3개짜리 list가 두줄 (안에 들어간 숫자는 랜덤한 숫자)"
   ]
  },
  {
   "cell_type": "markdown",
   "metadata": {},
   "source": [
    "# zeros 중요"
   ]
  },
  {
   "cell_type": "code",
   "execution_count": 35,
   "metadata": {},
   "outputs": [
    {
     "data": {
      "text/plain": [
       "array([[0., 0., 0.],\n",
       "       [0., 0., 0.]])"
      ]
     },
     "execution_count": 35,
     "metadata": {},
     "output_type": "execute_result"
    }
   ],
   "source": [
    "np.zeros([2,3])  # 중요"
   ]
  },
  {
   "cell_type": "markdown",
   "metadata": {},
   "source": [
    "np library속의 zeros라는 함수 이용 / 2 by 3의 list를 넣는 것\n",
    "\n",
    "=> \"0으로 다 채워진 2 by 3의 matrix,array를 만드는 것\"\n",
    "\n",
    "0뒤에 점(dot) : 'float'임을 의미(zeros라는 함수 자체가 float를 data type으로 함) "
   ]
  },
  {
   "cell_type": "code",
   "execution_count": 34,
   "metadata": {},
   "outputs": [
    {
     "data": {
      "text/plain": [
       "[0, 0, 0]"
      ]
     },
     "execution_count": 34,
     "metadata": {},
     "output_type": "execute_result"
    }
   ],
   "source": [
    "[0, 0, 0]   "
   ]
  },
  {
   "cell_type": "markdown",
   "metadata": {},
   "source": [
    "그냥 0이 들어가 있는 벡타"
   ]
  },
  {
   "cell_type": "code",
   "execution_count": 33,
   "metadata": {},
   "outputs": [
    {
     "data": {
      "text/plain": [
       "[[0, 0, 0], [0, 0, 0]]"
      ]
     },
     "execution_count": 33,
     "metadata": {},
     "output_type": "execute_result"
    }
   ],
   "source": [
    "#[0, 0, 0]을 2 by 3인 list로 만들고 싶다면,\n",
    "[[0, 0, 0], [0, 0, 0]]  "
   ]
  },
  {
   "cell_type": "markdown",
   "metadata": {},
   "source": [
    "그러나 이 list는 계산 불가능함, 쓸모 없어."
   ]
  },
  {
   "cell_type": "code",
   "execution_count": 10,
   "metadata": {},
   "outputs": [
    {
     "data": {
      "text/plain": [
       "array([[0, 0, 0],\n",
       "       [0, 0, 0]])"
      ]
     },
     "execution_count": 10,
     "metadata": {},
     "output_type": "execute_result"
    }
   ],
   "source": [
    "np.array ([[0, 0, 0], [0, 0, 0]])  "
   ]
  },
  {
   "cell_type": "markdown",
   "metadata": {},
   "source": [
    "계산불가능한 list에서 계산 가능한 array로 만드는 방법.\n",
    "\n",
    "위와 결과 똑같음(zeros 함수 사용한 것과)"
   ]
  },
  {
   "cell_type": "code",
   "execution_count": 13,
   "metadata": {},
   "outputs": [
    {
     "data": {
      "text/plain": [
       "array([[1., 1., 1.],\n",
       "       [1., 1., 1.]])"
      ]
     },
     "execution_count": 13,
     "metadata": {},
     "output_type": "execute_result"
    }
   ],
   "source": [
    "np.ones([2,3])  # 1이 6개 만들어짐, zeros와 마찬가지로 float를 data type으로 함."
   ]
  },
  {
   "cell_type": "code",
   "execution_count": 14,
   "metadata": {},
   "outputs": [
    {
     "data": {
      "text/plain": [
       "array([[1, 1, 1],\n",
       "       [1, 1, 1]])"
      ]
     },
     "execution_count": 14,
     "metadata": {},
     "output_type": "execute_result"
    }
   ],
   "source": [
    "np.ones([2,3], dtype = 'int')   #option으로 data type을 'int'라고 지정해 주면 int인 1이 6개 나옴(dot 사라짐)"
   ]
  },
  {
   "cell_type": "code",
   "execution_count": 15,
   "metadata": {
    "scrolled": true
   },
   "outputs": [
    {
     "data": {
      "text/plain": [
       "array([[1., 1., 1.],\n",
       "       [1., 1., 1.]])"
      ]
     },
     "execution_count": 15,
     "metadata": {},
     "output_type": "execute_result"
    }
   ],
   "source": [
    "np.ones([2,3], dtype = 'float64')  "
   ]
  },
  {
   "cell_type": "markdown",
   "metadata": {},
   "source": [
    "float 중에서도 종류 여러개 있음.(소수점 몇째자리까지 출력할지에 따라) \n",
    "\n",
    "float 64라 하면 '정밀하고 정교'한 값, 그러나 숫자를 길게 늘여놓는 것으로 메모리를 많이 차지함, 많은 공간을 차지\n",
    "(장점: 정확도는 up / 단점: 메모리 많이 차지)"
   ]
  },
  {
   "cell_type": "markdown",
   "metadata": {},
   "source": [
    "# arange 중요"
   ]
  },
  {
   "cell_type": "code",
   "execution_count": 17,
   "metadata": {
    "scrolled": true
   },
   "outputs": [
    {
     "data": {
      "text/plain": [
       "array([0, 1, 2, 3, 4])"
      ]
     },
     "execution_count": 17,
     "metadata": {},
     "output_type": "execute_result"
    }
   ],
   "source": [
    "np.arange(5)  #중요!"
   ]
  },
  {
   "cell_type": "markdown",
   "metadata": {},
   "source": [
    "계산 가능한 array로 만들어줌. 0부터 시작하는 5개의 index를 만들어주는 것."
   ]
  },
  {
   "cell_type": "code",
   "execution_count": 18,
   "metadata": {
    "scrolled": false
   },
   "outputs": [
    {
     "data": {
      "text/plain": [
       "array([0, 1, 2, 3, 4, 5, 6, 7, 8, 9])"
      ]
     },
     "execution_count": 18,
     "metadata": {},
     "output_type": "execute_result"
    }
   ],
   "source": [
    "np.arange(0, 10)  # range를 정해줄 수 있음."
   ]
  },
  {
   "cell_type": "code",
   "execution_count": 36,
   "metadata": {},
   "outputs": [
    {
     "data": {
      "text/plain": [
       "array([0, 2, 4, 6, 8])"
      ]
     },
     "execution_count": 36,
     "metadata": {},
     "output_type": "execute_result"
    }
   ],
   "source": [
    "np.arange(0, 10, 2)  # 2만큼의 간격을 가지면서."
   ]
  },
  {
   "cell_type": "code",
   "execution_count": 37,
   "metadata": {},
   "outputs": [
    {
     "data": {
      "text/plain": [
       "array([0., 2., 4., 6., 8.])"
      ]
     },
     "execution_count": 37,
     "metadata": {},
     "output_type": "execute_result"
    }
   ],
   "source": [
    "np.arange(0,10,2, dtype='float64')  #data type을 설정 가능, float로 설정해 dot 생김."
   ]
  },
  {
   "cell_type": "code",
   "execution_count": 21,
   "metadata": {},
   "outputs": [
    {
     "data": {
      "text/plain": [
       "array([0., 2., 4., 6., 8.], dtype=float32)"
      ]
     },
     "execution_count": 21,
     "metadata": {},
     "output_type": "execute_result"
    }
   ],
   "source": [
    "np.arange(0,10,2, dtype='float32')"
   ]
  },
  {
   "cell_type": "markdown",
   "metadata": {},
   "source": [
    "# linspace 중요"
   ]
  },
  {
   "cell_type": "code",
   "execution_count": 26,
   "metadata": {},
   "outputs": [
    {
     "data": {
      "text/plain": [
       "array([ 0.,  2.,  4.,  6.,  8., 10.])"
      ]
     },
     "execution_count": 26,
     "metadata": {},
     "output_type": "execute_result"
    }
   ],
   "source": [
    "np.linspace(0, 10, 6)   #중요 , linear space"
   ]
  },
  {
   "cell_type": "markdown",
   "metadata": {},
   "source": [
    "0부터 10까지(arange와 달리 끝인 10도 포함)\n",
    "\n",
    "처음과 끝을 포함한 채, 똑같이 6개로 나누어 준다, 첫번째와 두번째로 가는 space가 다 똑같다.\n",
    "\n",
    "=> linspace(시작값,끝값,개수)"
   ]
  },
  {
   "cell_type": "code",
   "execution_count": 25,
   "metadata": {},
   "outputs": [
    {
     "data": {
      "text/plain": [
       "array([ 0.        ,  1.66666667,  3.33333333,  5.        ,  6.66666667,\n",
       "        8.33333333, 10.        ])"
      ]
     },
     "execution_count": 25,
     "metadata": {},
     "output_type": "execute_result"
    }
   ],
   "source": [
    "np.linspace(0, 10, 7)   # 0부터 10까지 총 7개로 나누어주는 것. 같은 간격"
   ]
  },
  {
   "cell_type": "code",
   "execution_count": 30,
   "metadata": {},
   "outputs": [
    {
     "data": {
      "text/plain": [
       "array([ 0.,  2.,  4.,  6.,  8., 10.])"
      ]
     },
     "execution_count": 30,
     "metadata": {},
     "output_type": "execute_result"
    }
   ],
   "source": [
    "np.linspace(0,10,6, dtype=float)"
   ]
  },
  {
   "cell_type": "markdown",
   "metadata": {},
   "source": [
    "np.array -> list를 array로 바꿔주는 것"
   ]
  },
  {
   "cell_type": "code",
   "execution_count": 28,
   "metadata": {},
   "outputs": [
    {
     "data": {
      "text/plain": [
       "array([[1, 2, 3]])"
      ]
     },
     "execution_count": 28,
     "metadata": {},
     "output_type": "execute_result"
    }
   ],
   "source": [
    "X = np.array([[1,2,3]])   #하나의 벡타가 만들어짐, 벡타 = 1차원\n",
    "X"
   ]
  },
  {
   "cell_type": "code",
   "execution_count": 38,
   "metadata": {},
   "outputs": [
    {
     "data": {
      "text/plain": [
       "array([[1, 2, 3],\n",
       "       [4, 5, 6]])"
      ]
     },
     "execution_count": 38,
     "metadata": {},
     "output_type": "execute_result"
    }
   ],
   "source": [
    "X = np.array([[1,2,3],[4,5,6]])   # 2 by 3의 matrix행렬을 만들고 싶을 때\n",
    "X"
   ]
  },
  {
   "cell_type": "code",
   "execution_count": 41,
   "metadata": {},
   "outputs": [
    {
     "data": {
      "text/plain": [
       "array([[1, 2],\n",
       "       [4, 5],\n",
       "       [8, 9]])"
      ]
     },
     "execution_count": 41,
     "metadata": {},
     "output_type": "execute_result"
    }
   ],
   "source": [
    "X = np.array([[1,2],[4,5],[8,9]])   # 3 by 2를 만들고 싶을 때 / [[1,2],[4,5],[8,9]] 까지가 2차원\n",
    "X"
   ]
  },
  {
   "cell_type": "markdown",
   "metadata": {},
   "source": [
    "[ ]가 2개 나옴 => 2차원(직사각형)\n",
    "    \n",
    "    * [[1,2],[4,5],[8,9]]는 2차원\n",
    "    \n",
    "[ ]가 3개 나옴 => 3차원 (2차원 행렬이 2개 있으면 3차원)\n",
    "\n",
    "    * [[[1,2],[4,5],[8,9]],[[1,2],[4,5],[8,9]]]는 3차원\n"
   ]
  },
  {
   "cell_type": "code",
   "execution_count": 42,
   "metadata": {
    "scrolled": true
   },
   "outputs": [
    {
     "data": {
      "text/plain": [
       "array([[[1, 2],\n",
       "        [4, 5],\n",
       "        [8, 9]],\n",
       "\n",
       "       [[1, 2],\n",
       "        [4, 5],\n",
       "        [8, 9]]])"
      ]
     },
     "execution_count": 42,
     "metadata": {},
     "output_type": "execute_result"
    }
   ],
   "source": [
    "X = np.array([[[1,2],[4,5],[8,9]],[[1,2],[4,5],[8,9]]])    # 3차원\n",
    "X"
   ]
  },
  {
   "cell_type": "code",
   "execution_count": 43,
   "metadata": {
    "scrolled": true
   },
   "outputs": [
    {
     "data": {
      "text/plain": [
       "3"
      ]
     },
     "execution_count": 43,
     "metadata": {},
     "output_type": "execute_result"
    }
   ],
   "source": [
    "X.ndim   # 몇차원인지 확인 => 3차원"
   ]
  },
  {
   "cell_type": "code",
   "execution_count": 34,
   "metadata": {},
   "outputs": [
    {
     "data": {
      "text/plain": [
       "(2, 3, 2)"
      ]
     },
     "execution_count": 34,
     "metadata": {},
     "output_type": "execute_result"
    }
   ],
   "source": [
    "X.shape   "
   ]
  },
  {
   "cell_type": "markdown",
   "metadata": {},
   "source": [
    "2 x   3 x 2의 차원(더 구체적)\n",
    "\n",
    "3 x 2인 2차원의 직사각형이 2개 있는 것. \n",
    "\n",
    "=> 3차원 (괄호 안의 수가 3개)\n",
    "\n",
    "가장 큰 괄호 속의 list([[1,2],[4,5],[8,9]])가 '2개', 다음 괄호 속의 list([1,2]/[4,5]/[8,9])가 '3개' , 가장 작은 괄호 속의 수가 각각 '2개'"
   ]
  },
  {
   "cell_type": "code",
   "execution_count": 44,
   "metadata": {},
   "outputs": [
    {
     "data": {
      "text/plain": [
       "dtype('int32')"
      ]
     },
     "execution_count": 44,
     "metadata": {},
     "output_type": "execute_result"
    }
   ],
   "source": [
    "X.dtype   # X 속 숫자들의 type을 알고 싶을 때"
   ]
  },
  {
   "cell_type": "code",
   "execution_count": 46,
   "metadata": {},
   "outputs": [
    {
     "data": {
      "text/plain": [
       "array([[[1., 2.],\n",
       "        [4., 5.],\n",
       "        [8., 9.]],\n",
       "\n",
       "       [[1., 2.],\n",
       "        [4., 5.],\n",
       "        [8., 9.]]])"
      ]
     },
     "execution_count": 46,
     "metadata": {},
     "output_type": "execute_result"
    }
   ],
   "source": [
    "X.astype(np.float64)    # type을 바꾸고 싶을 때 astype사용"
   ]
  },
  {
   "cell_type": "code",
   "execution_count": 47,
   "metadata": {
    "scrolled": true
   },
   "outputs": [
    {
     "data": {
      "text/plain": [
       "array([[[0, 0],\n",
       "        [0, 0],\n",
       "        [0, 0]],\n",
       "\n",
       "       [[0, 0],\n",
       "        [0, 0],\n",
       "        [0, 0]]])"
      ]
     },
     "execution_count": 47,
     "metadata": {},
     "output_type": "execute_result"
    }
   ],
   "source": [
    "np.zeros_like(X)  #모든 형태를 유지한 채, 숫자를 모두 0으로 바꾸어라"
   ]
  },
  {
   "cell_type": "code",
   "execution_count": 48,
   "metadata": {},
   "outputs": [
    {
     "data": {
      "text/plain": [
       "array([[[0, 0],\n",
       "        [0, 0],\n",
       "        [0, 0]],\n",
       "\n",
       "       [[0, 0],\n",
       "        [0, 0],\n",
       "        [0, 0]]])"
      ]
     },
     "execution_count": 48,
     "metadata": {},
     "output_type": "execute_result"
    }
   ],
   "source": [
    "X*0   #이렇게 하면 zeros_like 함수와 똑같은 값 출력 가능"
   ]
  },
  {
   "cell_type": "markdown",
   "metadata": {},
   "source": [
    "# 중요"
   ]
  },
  {
   "cell_type": "markdown",
   "metadata": {},
   "source": [
    "* np.random.normal\n",
    "\n",
    "-> numpy라는 큰 library 속의 random이라는 sub package 안에 들어있는 normal이라는 함수(dot의 의미)\n",
    "\n",
    "* from np import random.normal과 같은 것\n",
    "\n",
    "normal 함수는 normal distribution(정규분포) 만드는 함수 , 종 모양\n",
    "\n",
    " (평균mean, 표준편차standard deviation, 데이타의 개수)\n",
    " \n",
    " \n",
    " * \n",
    "위에 'import matplotlib.pyplot as plt'라고 명시함.\n",
    " -> matplotlib.pyplt 전체를 plt라고 칭하는 것\n",
    " \n",
    " plt.hist( ,bins = ) -> matplotlib 안의 sub package인 pyplot 안의 hist라는 함수를 사용하는 것.\n",
    " \n",
    "막대그래프histogram -> bins(바구니)의 개수를 정함, x값 / y값은 항상 0을 포함한 자연수 값.(y값의 range들을 다 합하면 총 data 개수인 100.)"
   ]
  },
  {
   "cell_type": "code",
   "execution_count": 49,
   "metadata": {},
   "outputs": [
    {
     "name": "stdout",
     "output_type": "stream",
     "text": [
      "[-0.37258603 -1.59767445  0.13512383  0.79873747 -2.29582828  1.43769705\n",
      "  0.44192087  1.06950375 -1.32650696 -0.91314561 -0.57260697  0.83713912\n",
      "  0.96759915  0.95476019 -0.33627026 -0.2942235   0.04728042 -0.87692065\n",
      "  0.14162611  0.71653543 -0.76307388 -1.00576128 -1.69324781  0.28413963\n",
      "  0.1227293  -0.07507326 -0.27204731 -1.85030995 -1.34964333 -1.50094555\n",
      "  0.68072963  0.23715664  0.75143626 -0.02862519  1.67440416  2.6859538\n",
      "  1.55326829  1.36634109  0.22696932  0.17224677 -0.20795585  1.58414598\n",
      "  2.08025378  0.01595548 -0.68729762 -1.38728478  2.46536325  0.02643466\n",
      "  0.65900575  0.7951298   0.74521873  0.52370562  1.75209776  1.12090448\n",
      " -0.24615527 -0.28900413 -0.79784034 -0.16214897 -0.82007375 -1.51454415\n",
      " -0.15821398  0.14313154  0.96563216 -0.07207575 -0.7139099   0.67864248\n",
      " -0.36454577  1.16545419  0.26381984  0.37166155 -1.36448142 -0.58502858\n",
      " -1.46387046 -1.00895512  0.002918    0.44065272 -0.11626244 -0.39691668\n",
      "  1.39608021 -1.48021214 -0.27268666  1.09306959 -0.81919862 -0.17866632\n",
      "  1.31816802  0.66644686  0.50233634  0.71563651  0.78267594  0.6937235\n",
      " -0.64938663  0.66368587  0.54676707  0.20522953  0.59410191 -0.42139864\n",
      "  0.44761236 -0.33832037  0.12492712  1.37490903]\n"
     ]
    },
    {
     "data": {
      "image/png": "[encoded data removed]",
      "text/plain": [
       "<Figure size 432x288 with 1 Axes>"
      ]
     },
     "metadata": {
      "needs_background": "light"
     },
     "output_type": "display_data"
    }
   ],
   "source": [
    "data = np.random.normal(0,1, 100)    # 100개의 random한 데이터를 normal distribution정규분포로 만들어라\n",
    "print(data)\n",
    "plt.hist(data, bins=10)   # 실행하고 싶지 않을 때 %를 앞에 적어 줌\n",
    "plt.show()               "
   ]
  },
  {
   "cell_type": "code",
   "execution_count": 44,
   "metadata": {},
   "outputs": [
    {
     "name": "stdout",
     "output_type": "stream",
     "text": [
      "[-0.44377117  0.48015742 -0.59850634  0.66000175  1.40415517 -0.52490055\n",
      " -1.86990104 -0.35387734  1.25036086 -0.48324727 -1.48224847  0.41127238\n",
      "  1.27677446 -0.6480815  -1.04772252 -1.63773253  0.33327623 -0.87168114\n",
      " -0.07785868 -1.092721    0.3638019   0.56540687 -0.42294866  0.41138925\n",
      " -0.25862313  0.87998525 -0.13843124  0.23865945 -0.69003839  0.45449656\n",
      " -1.87132579  0.4166151  -1.04296624  0.33961875  0.28737144 -0.83838088\n",
      " -2.32318797 -0.19370671  0.75727461 -2.02088855  1.34718355 -1.31058289\n",
      "  0.15514619  1.06599271 -0.72473155 -1.10556093  0.69933834 -0.23024358\n",
      " -1.11706659 -0.82529183 -2.41875566 -2.63788996 -0.08113054  0.3144318\n",
      " -0.80132054  0.02368898  0.48607431  0.82438454  0.17779963  0.24964409\n",
      " -0.47388536 -0.4787057   0.41377661 -0.59202592  0.71605444 -1.83073688\n",
      "  0.95995022 -1.26208532  2.00675093 -0.09897268  0.24271356  0.12040261\n",
      " -1.19025091 -0.90196314 -0.43555731  0.7495539  -0.08963111  0.16571179\n",
      "  1.23357325 -0.12844109  1.51372316  2.02578177 -0.93429912  1.49087701\n",
      "  0.84257958 -1.00988227 -0.17792293 -0.11184094 -1.29329759  0.13740196\n",
      "  2.14811537  1.07712444 -1.35785301 -0.55085472  0.35175794  0.91620144\n",
      " -0.35743813  1.25888085 -0.54796114  0.9127517 ]\n"
     ]
    }
   ],
   "source": [
    "data = np.random.normal(0,1, 100)   # 100개의 데이타가 나옴\n",
    "print(data)"
   ]
  },
  {
   "cell_type": "code",
   "execution_count": 46,
   "metadata": {},
   "outputs": [
    {
     "data": {
      "text/plain": [
       "1"
      ]
     },
     "execution_count": 46,
     "metadata": {},
     "output_type": "execute_result"
    }
   ],
   "source": [
    "data.ndim  #1차원 (대괄호가 하나만 나옴)"
   ]
  },
  {
   "cell_type": "code",
   "execution_count": 48,
   "metadata": {},
   "outputs": [
    {
     "data": {
      "text/plain": [
       "(100,)"
      ]
     },
     "execution_count": 48,
     "metadata": {},
     "output_type": "execute_result"
    }
   ],
   "source": [
    "data.shape #총 100개의 data가 나옴"
   ]
  },
  {
   "cell_type": "markdown",
   "metadata": {},
   "source": [
    "# 2. Manipulation"
   ]
  },
  {
   "cell_type": "markdown",
   "metadata": {},
   "source": [
    "# 중요\n",
    "줄로 된 숫자(벡터)는 1차원. 직사각형의 형태는 2차원, 3차원은 직사각형이 여러장 쌓인 것 , 4차원은 3차원이 여러장 쌓인 것.~~\n",
    "\n",
    "끝이나 처음에 보이는 대괄호의 수가 차원의 수와 같다"
   ]
  },
  {
   "cell_type": "code",
   "execution_count": 52,
   "metadata": {},
   "outputs": [
    {
     "data": {
      "text/plain": [
       "array([[[1., 1., 1., 1.],\n",
       "        [1., 1., 1., 1.],\n",
       "        [1., 1., 1., 1.]],\n",
       "\n",
       "       [[1., 1., 1., 1.],\n",
       "        [1., 1., 1., 1.],\n",
       "        [1., 1., 1., 1.]]])"
      ]
     },
     "execution_count": 52,
     "metadata": {},
     "output_type": "execute_result"
    }
   ],
   "source": [
    "X = np.ones([2, 3, 4])    # '2 by 3 by 4' shape의 3차원의 행렬값이 만들어짐 , data type은 float가 디폴트\n",
    "X"
   ]
  },
  {
   "cell_type": "markdown",
   "metadata": {},
   "source": [
    "# reshape 아주 중요한 함수"
   ]
  },
  {
   "cell_type": "markdown",
   "metadata": {},
   "source": [
    "shape을 바꿈 , X의 원래 shape은 '2 by 3 by 4'\n",
    "\n",
    "총 elements의 개수는 정해짐.(2x3x4 = 총 24개)\n",
    "\n",
    "shape을 바꾼다 하더라도 총 element 값에 벗어나지 못함 "
   ]
  },
  {
   "cell_type": "code",
   "execution_count": 53,
   "metadata": {
    "scrolled": false
   },
   "outputs": [
    {
     "data": {
      "text/plain": [
       "array([[[1., 1.],\n",
       "        [1., 1.],\n",
       "        [1., 1.]],\n",
       "\n",
       "       [[1., 1.],\n",
       "        [1., 1.],\n",
       "        [1., 1.]],\n",
       "\n",
       "       [[1., 1.],\n",
       "        [1., 1.],\n",
       "        [1., 1.]],\n",
       "\n",
       "       [[1., 1.],\n",
       "        [1., 1.],\n",
       "        [1., 1.]]])"
      ]
     },
     "execution_count": 53,
     "metadata": {},
     "output_type": "execute_result"
    }
   ],
   "source": [
    "Y = X.reshape(-1, 3, 2)     #-1 자리에 원래 4가 나와야 함, 무엇이 들어가야 할지 모를 때 '-1'을 적으면 됨\n",
    "Y"
   ]
  },
  {
   "cell_type": "code",
   "execution_count": 55,
   "metadata": {},
   "outputs": [
    {
     "data": {
      "text/plain": [
       "array([[[1., 1.],\n",
       "        [1., 1.],\n",
       "        [1., 1.]],\n",
       "\n",
       "       [[1., 1.],\n",
       "        [1., 1.],\n",
       "        [1., 1.]],\n",
       "\n",
       "       [[1., 1.],\n",
       "        [1., 1.],\n",
       "        [1., 1.]],\n",
       "\n",
       "       [[1., 1.],\n",
       "        [1., 1.],\n",
       "        [1., 1.]]])"
      ]
     },
     "execution_count": 55,
     "metadata": {},
     "output_type": "execute_result"
    }
   ],
   "source": [
    "Y = X.reshape(4, 3, 2)    # -1자리에 원래 값인 4를 넣어도 같은 값 출력됨\n",
    "Y"
   ]
  },
  {
   "cell_type": "code",
   "execution_count": 44,
   "metadata": {},
   "outputs": [
    {
     "data": {
      "text/plain": [
       "True"
      ]
     },
     "execution_count": 44,
     "metadata": {},
     "output_type": "execute_result"
    }
   ],
   "source": [
    "np.allclose(X.reshape(-1, 3, 2), Y)"
   ]
  },
  {
   "cell_type": "markdown",
   "metadata": {},
   "source": [
    "2 by 3 by 4의 X를 reshape 해서 4 by 3 by 2로 만들면, 그것과 Y가 완전히 똑같은지(close한지)를 확인하는 함수\n",
    "\n",
    "두개의 array를 비교해서 똑같으면 'True'가 출력됨"
   ]
  },
  {
   "cell_type": "code",
   "execution_count": 56,
   "metadata": {},
   "outputs": [],
   "source": [
    "assert np.allclose(X.reshape(-1, 3, 2), Y)   #몰라도 됨"
   ]
  },
  {
   "cell_type": "markdown",
   "metadata": {},
   "source": [
    "# 3. Numpy I/O"
   ]
  },
  {
   "cell_type": "code",
   "execution_count": 62,
   "metadata": {},
   "outputs": [],
   "source": [
    "a = np.random.randint(0, 10, [2, 3])   # 10포함???\n",
    "b = np.random.random([2, 3])\n",
    "np.savez(\"test\", a, b)"
   ]
  },
  {
   "cell_type": "markdown",
   "metadata": {},
   "source": [
    "np안의 random안의 rand int의 함수를 사용 / 0부터 10 사이의 수에서 '2 by 3'의 matirx행렬을 만들어라.\n",
    "\n",
    "random한 2 by 3의 행렬을 만들어라\n",
    "\n",
    "np 패키지 안의 savez라는 함수를 사용하면 실제 파일로 저장해 줌 (test.npz의 파일)"
   ]
  },
  {
   "cell_type": "code",
   "execution_count": 58,
   "metadata": {},
   "outputs": [
    {
     "name": "stderr",
     "output_type": "stream",
     "text": [
      "'ls'은(는) 내부 또는 외부 명령, 실행할 수 있는 프로그램, 또는\n",
      "배치 파일이 아닙니다.\n"
     ]
    }
   ],
   "source": [
    "!ls -al test*      #실제 저장됐는지 확인하는 것. 윈도우에선 실행 불가능"
   ]
  },
  {
   "cell_type": "code",
   "execution_count": 63,
   "metadata": {},
   "outputs": [
    {
     "name": "stdout",
     "output_type": "stream",
     "text": [
      "No variables match your requested type.\n"
     ]
    }
   ],
   "source": [
    "del a, b\n",
    "%who       # Print all interactive variables"
   ]
  },
  {
   "cell_type": "markdown",
   "metadata": {},
   "source": [
    "del: 메모리 상에서 지정한 variable를 지우고 싶을 때\n",
    "\n",
    "who: 지금 available한 variable들이 무엇이 있는지 나옴,메모리에 assign되어 있는 variable들 /윈도우에서는 실행안됨"
   ]
  },
  {
   "cell_type": "code",
   "execution_count": 65,
   "metadata": {},
   "outputs": [
    {
     "data": {
      "text/plain": [
       "['arr_0', 'arr_1']"
      ]
     },
     "execution_count": 65,
     "metadata": {},
     "output_type": "execute_result"
    }
   ],
   "source": [
    "npzfiles = np.load(\"test.npz\")  # savez 함수를 통해 저장한 파일 불러오기\n",
    "npzfiles.files       # 변수. files"
   ]
  },
  {
   "cell_type": "markdown",
   "metadata": {},
   "source": [
    "npzfiles는 그냥 변수 이름(뭘 적든 상관없음) / np.load(\"파일명 적기\") "
   ]
  },
  {
   "cell_type": "code",
   "execution_count": 66,
   "metadata": {},
   "outputs": [
    {
     "data": {
      "text/plain": [
       "array([[4, 2, 4],\n",
       "       [2, 4, 6]])"
      ]
     },
     "execution_count": 66,
     "metadata": {},
     "output_type": "execute_result"
    }
   ],
   "source": [
    "npzfiles['arr_0']  # a라고 assign했던 variable"
   ]
  },
  {
   "cell_type": "code",
   "execution_count": 70,
   "metadata": {},
   "outputs": [
    {
     "data": {
      "text/plain": [
       "array([[0.06493702, 0.40889789, 0.80242547],\n",
       "       [0.82572202, 0.55718446, 0.3940458 ]])"
      ]
     },
     "execution_count": 70,
     "metadata": {},
     "output_type": "execute_result"
    }
   ],
   "source": [
    "npzfiles['arr_1']  # b라고 assign했던 variable"
   ]
  },
  {
   "cell_type": "markdown",
   "metadata": {},
   "source": [
    "# regression.csv\n",
    "\n",
    "csv(comma separated values) 파일\n",
    " -> data를 파일로 주는 방법 중 하나\n",
    "\n",
    "regression.csv 파일이 있다면 'np.loadtxt'해서 불러옴\n",
    "\n",
    "delimiter: 분리하는 것\n",
    "\n",
    "skiprows: 첫번째 row는 쓰지 않는다 -> 제목에 불과. X,Y라고 적인 것은 data라 할 수 없음.\n",
    "\n",
    "datatype: 첫번째 것은 X로, 두번째 것은 Y로 하자.\n",
    "\n",
    "formats: 둘다 float으로 하겠다 ('i'는 int)"
   ]
  },
  {
   "cell_type": "code",
   "execution_count": 106,
   "metadata": {
    "scrolled": true
   },
   "outputs": [
    {
     "data": {
      "text/plain": [
       "array([( 3.3  , 1.7  ), ( 4.4  , 2.76 ), ( 5.5  , 2.09 ), ( 6.71 , 3.19 ),\n",
       "       ( 6.93 , 1.694), ( 4.168, 1.573), ( 9.779, 3.366), ( 6.182, 2.596),\n",
       "       ( 7.59 , 2.53 ), ( 2.167, 1.221), ( 7.042, 2.827), (10.791, 3.465),\n",
       "       ( 5.313, 1.65 ), ( 7.997, 2.904), ( 5.654, 2.42 ), ( 9.27 , 2.94 ),\n",
       "       ( 3.1  , 1.3  )], dtype=[('X', '<f4'), ('Y', '<f4')])"
      ]
     },
     "execution_count": 106,
     "metadata": {},
     "output_type": "execute_result"
    }
   ],
   "source": [
    "data = np.loadtxt(\"regression.csv\", delimiter=\",\", skiprows=1, dtype={'names':(\"X\", \"Y\"), 'formats':('f', 'f')})\n",
    "data"
   ]
  },
  {
   "cell_type": "code",
   "execution_count": 81,
   "metadata": {
    "scrolled": true
   },
   "outputs": [
    {
     "name": "stderr",
     "output_type": "stream",
     "text": [
      "'ls'은(는) 내부 또는 외부 명령, 실행할 수 있는 프로그램, 또는\n",
      "배치 파일이 아닙니다.\n"
     ]
    }
   ],
   "source": [
    "np.savetxt(\"regression_saved.csv\", data, delimiter=\",\")\n",
    "!ls -al regression_saved.csv"
   ]
  },
  {
   "cell_type": "markdown",
   "metadata": {},
   "source": [
    "데이타를 전달하기 위해 저장하고 싶을 때"
   ]
  },
  {
   "cell_type": "markdown",
   "metadata": {},
   "source": [
    "# 4. Inspecting"
   ]
  },
  {
   "cell_type": "code",
   "execution_count": 80,
   "metadata": {},
   "outputs": [],
   "source": [
    "arr = np.random.random([5,2,3])  #shape이 5 by 2 by 3인 3차원"
   ]
  },
  {
   "cell_type": "code",
   "execution_count": 81,
   "metadata": {
    "scrolled": true
   },
   "outputs": [
    {
     "name": "stdout",
     "output_type": "stream",
     "text": [
      "<class 'numpy.ndarray'>\n",
      "5\n",
      "(5, 2, 3)\n",
      "3\n",
      "30\n",
      "float64\n"
     ]
    }
   ],
   "source": [
    "print(type(arr))    \n",
    "print(len(arr))\n",
    "print(arr.shape)\n",
    "print(arr.ndim)\n",
    "print(arr.size)\n",
    "print(arr.dtype)"
   ]
  },
  {
   "cell_type": "markdown",
   "metadata": {},
   "source": [
    "numpy.ndarray : numpy가 만들어낸 n dimensional array\n",
    "    \n",
    "len: 가장 첫번째 값\n",
    "    \n",
    "dimension: 3차원\n",
    "    \n",
    "size: 총 element의 개수(5x2x3)\n",
    "    \n",
    "data type: 디폴트로 된 float 64"
   ]
  },
  {
   "cell_type": "markdown",
   "metadata": {},
   "source": [
    "# 5. Operations\n",
    "\n",
    "# 5.1 Arithmetic\n",
    "\n"
   ]
  },
  {
   "cell_type": "code",
   "execution_count": 83,
   "metadata": {},
   "outputs": [],
   "source": [
    "a = np.arange(1, 5)  #\n",
    "b = np.arange(9, 5, -1)"
   ]
  },
  {
   "cell_type": "markdown",
   "metadata": {},
   "source": [
    "수를 하나만 적으면 그 숫자만큼의 개수로 index가 나옴\n",
    "\n",
    "2개 적으면, 1부터 5 직전까지의 index를 만들어냄\n",
    "\n",
    "3개 적으면, 9부터 5까지 -1의 간격으로 index 만들어냄 (가장 마지막 숫자인 5는 포함하지 않음)"
   ]
  },
  {
   "cell_type": "code",
   "execution_count": 84,
   "metadata": {},
   "outputs": [
    {
     "name": "stdout",
     "output_type": "stream",
     "text": [
      "[1 2 3 4]\n",
      "[9 8 7 6]\n"
     ]
    }
   ],
   "source": [
    "print(a)\n",
    "print(b)"
   ]
  },
  {
   "cell_type": "code",
   "execution_count": 86,
   "metadata": {},
   "outputs": [
    {
     "name": "stdout",
     "output_type": "stream",
     "text": [
      "[-8 -6 -4 -2]\n",
      "[ 9 16 21 24]\n"
     ]
    }
   ],
   "source": [
    "print(a - b)   # a와 b 모두 numpy array이므로 계산 가능함\n",
    "print(a * b)"
   ]
  },
  {
   "cell_type": "markdown",
   "metadata": {},
   "source": [
    "# 5.2 Comparison"
   ]
  },
  {
   "cell_type": "code",
   "execution_count": 87,
   "metadata": {},
   "outputs": [
    {
     "name": "stdout",
     "output_type": "stream",
     "text": [
      "[[1 2 3]\n",
      " [4 5 6]\n",
      " [7 8 9]]\n",
      "[[9 8 7]\n",
      " [6 5 4]\n",
      " [3 2 1]]\n"
     ]
    }
   ],
   "source": [
    "a = np.arange(1, 10).reshape(3,3)    # arange 1부터 9까지의 일차원 /  reshape해서 3  by 3의 2차원으로 만들어 줌.\n",
    "b = np.arange(9, 0, -1).reshape(3,3) # 9부터 1까지 -1만큼의 간격으로 줄어든 일차원의 수 / reshape해서 3 by 3의 2차원으로 만들어줌.\n",
    "print(a)\n",
    "print(b)"
   ]
  },
  {
   "cell_type": "code",
   "execution_count": 89,
   "metadata": {},
   "outputs": [
    {
     "data": {
      "text/plain": [
       "array([[False, False, False],\n",
       "       [False,  True, False],\n",
       "       [False, False, False]])"
      ]
     },
     "execution_count": 89,
     "metadata": {},
     "output_type": "execute_result"
    }
   ],
   "source": [
    "a == b  # a와 b가 같은가 / 각각을 비교 / 중간의 5만 같음 - true"
   ]
  },
  {
   "cell_type": "code",
   "execution_count": 90,
   "metadata": {
    "scrolled": true
   },
   "outputs": [
    {
     "data": {
      "text/plain": [
       "array([[False, False, False],\n",
       "       [False, False,  True],\n",
       "       [ True,  True,  True]])"
      ]
     },
     "execution_count": 90,
     "metadata": {},
     "output_type": "execute_result"
    }
   ],
   "source": [
    "a > b  #a가 b보다 크면 true나옴, 비교하는 대상 간의 'dimension'과 'shape'이 같아야 비교 가능"
   ]
  },
  {
   "cell_type": "markdown",
   "metadata": {},
   "source": [
    "# 5.3 Aggregate(sum, min, max, mean, median, std)\n",
    "\n",
    "   # 아주 중요"
   ]
  },
  {
   "cell_type": "code",
   "execution_count": 95,
   "metadata": {},
   "outputs": [
    {
     "data": {
      "text/plain": [
       "array([[1, 2, 3],\n",
       "       [4, 5, 6],\n",
       "       [7, 8, 9]])"
      ]
     },
     "execution_count": 95,
     "metadata": {},
     "output_type": "execute_result"
    }
   ],
   "source": [
    "a"
   ]
  },
  {
   "cell_type": "code",
   "execution_count": 94,
   "metadata": {},
   "outputs": [
    {
     "data": {
      "text/plain": [
       "(45, 45)"
      ]
     },
     "execution_count": 94,
     "metadata": {},
     "output_type": "execute_result"
    }
   ],
   "source": [
    "a.sum() , np.sum(a)"
   ]
  },
  {
   "cell_type": "code",
   "execution_count": 93,
   "metadata": {},
   "outputs": [
    {
     "data": {
      "text/plain": [
       "45"
      ]
     },
     "execution_count": 93,
     "metadata": {},
     "output_type": "execute_result"
    }
   ],
   "source": [
    "a.sum()    "
   ]
  },
  {
   "cell_type": "markdown",
   "metadata": {},
   "source": [
    "1) a 자체가 numpy로부터 만들어진 산물. 그러므로 바로 a.sum() 으로 이용 가능. \n",
    "\n",
    "자기 자신을 sum하는 것이므로 괄호 속에 input을 넣을 필요 없음\n",
    "\n",
    "(numpy로부터 a가 만들어졌기 때문에 사용 가능한 것, 아무거나 사용할 순 없음.)"
   ]
  },
  {
   "cell_type": "code",
   "execution_count": 92,
   "metadata": {},
   "outputs": [
    {
     "data": {
      "text/plain": [
       "45"
      ]
     },
     "execution_count": 92,
     "metadata": {},
     "output_type": "execute_result"
    }
   ],
   "source": [
    "np.sum(a)  "
   ]
  },
  {
   "cell_type": "markdown",
   "metadata": {},
   "source": [
    "2) numpy 속의 sum이라는 함수 사용\n",
    "\n",
    "()괄호 안에 sum해야하는 것 넣어줌."
   ]
  },
  {
   "cell_type": "markdown",
   "metadata": {},
   "source": [
    "=> sum을 사용하는 2가지 방법 \n",
    "\n",
    "\n",
    "\n"
   ]
  },
  {
   "cell_type": "code",
   "execution_count": 94,
   "metadata": {},
   "outputs": [
    {
     "data": {
      "text/plain": [
       "(array([12, 15, 18]), array([12, 15, 18]))"
      ]
     },
     "execution_count": 94,
     "metadata": {},
     "output_type": "execute_result"
    }
   ],
   "source": [
    "a.sum(axis=0), np.sum(a, axis=0)"
   ]
  },
  {
   "cell_type": "markdown",
   "metadata": {},
   "source": [
    "몇번째 차원에서 sum을 할 것인가.\n",
    "\n",
    "a는 3X3의 2차원\n",
    "\n",
    "첫번째 차원(axis 0)에 해당 되는 것 -> 행 / 두번째 차원(axis 1)엔 해당되는 것 -> 열\n",
    "\n",
    "첫번째 차원의 관점(행)에서 sum을 해라"
   ]
  },
  {
   "cell_type": "code",
   "execution_count": 93,
   "metadata": {},
   "outputs": [
    {
     "data": {
      "text/plain": [
       "(array([ 6, 15, 24]), array([ 6, 15, 24]))"
      ]
     },
     "execution_count": 93,
     "metadata": {},
     "output_type": "execute_result"
    }
   ],
   "source": [
    "a.sum(axis=1), np.sum(a, axis=1)"
   ]
  },
  {
   "cell_type": "markdown",
   "metadata": {},
   "source": [
    "두번째 차원의 관점(열)에서 sum을 해라"
   ]
  },
  {
   "cell_type": "markdown",
   "metadata": {},
   "source": [
    "# Broadcasting"
   ]
  },
  {
   "cell_type": "code",
   "execution_count": 99,
   "metadata": {},
   "outputs": [
    {
     "data": {
      "text/plain": [
       "array([[ 1,  2,  3,  4,  5,  6],\n",
       "       [ 7,  8,  9, 10, 11, 12],\n",
       "       [13, 14, 15, 16, 17, 18],\n",
       "       [19, 20, 21, 22, 23, 24]])"
      ]
     },
     "execution_count": 99,
     "metadata": {},
     "output_type": "execute_result"
    }
   ],
   "source": [
    "a = np.arange(1, 25).reshape(4, 6)    # 1 부터 24까지의 수를 4 by 6의 2차원으로 reshape 해라\n",
    "a                                     # arange하고 바로 dot(.)로 연결해 reshape하는 것도 가능 "
   ]
  },
  {
   "cell_type": "code",
   "execution_count": 97,
   "metadata": {},
   "outputs": [
    {
     "data": {
      "text/plain": [
       "array([[101, 102, 103, 104, 105, 106],\n",
       "       [107, 108, 109, 110, 111, 112],\n",
       "       [113, 114, 115, 116, 117, 118],\n",
       "       [119, 120, 121, 122, 123, 124]])"
      ]
     },
     "execution_count": 97,
     "metadata": {},
     "output_type": "execute_result"
    }
   ],
   "source": [
    " a + 100"
   ]
  },
  {
   "cell_type": "code",
   "execution_count": 100,
   "metadata": {},
   "outputs": [
    {
     "data": {
      "text/plain": [
       "array([0, 1, 2, 3, 4, 5])"
      ]
     },
     "execution_count": 100,
     "metadata": {},
     "output_type": "execute_result"
    }
   ],
   "source": [
    "b = np.arange(6)\n",
    "b"
   ]
  },
  {
   "cell_type": "code",
   "execution_count": 101,
   "metadata": {},
   "outputs": [
    {
     "data": {
      "text/plain": [
       "array([[ 1,  3,  5,  7,  9, 11],\n",
       "       [ 7,  9, 11, 13, 15, 17],\n",
       "       [13, 15, 17, 19, 21, 23],\n",
       "       [19, 21, 23, 25, 27, 29]])"
      ]
     },
     "execution_count": 101,
     "metadata": {},
     "output_type": "execute_result"
    }
   ],
   "source": [
    "a + b   # a는 4x6, b는 6 -> 더하기 가능"
   ]
  },
  {
   "cell_type": "code",
   "execution_count": 102,
   "metadata": {},
   "outputs": [
    {
     "data": {
      "text/plain": [
       "array([[0],\n",
       "       [1],\n",
       "       [2],\n",
       "       [3]])"
      ]
     },
     "execution_count": 102,
     "metadata": {},
     "output_type": "execute_result"
    }
   ],
   "source": [
    "c = np.arange(4).reshape([4,1])\n",
    "c"
   ]
  },
  {
   "cell_type": "code",
   "execution_count": 104,
   "metadata": {},
   "outputs": [
    {
     "data": {
      "text/plain": [
       "array([[ 1,  2,  3,  4,  5,  6],\n",
       "       [ 7,  8,  9, 10, 11, 12],\n",
       "       [13, 14, 15, 16, 17, 18],\n",
       "       [19, 20, 21, 22, 23, 24]])"
      ]
     },
     "execution_count": 104,
     "metadata": {},
     "output_type": "execute_result"
    }
   ],
   "source": [
    "a"
   ]
  },
  {
   "cell_type": "code",
   "execution_count": 101,
   "metadata": {
    "scrolled": true
   },
   "outputs": [
    {
     "data": {
      "text/plain": [
       "array([[ 1,  2,  3,  4,  5,  6],\n",
       "       [ 8,  9, 10, 11, 12, 13],\n",
       "       [15, 16, 17, 18, 19, 20],\n",
       "       [22, 23, 24, 25, 26, 27]])"
      ]
     },
     "execution_count": 101,
     "metadata": {},
     "output_type": "execute_result"
    }
   ],
   "source": [
    "a + c"
   ]
  },
  {
   "cell_type": "markdown",
   "metadata": {},
   "source": [
    "sound\n",
    "\n",
    "1초 동안 얼마나 빽빽하게 값들이 담을 건지, 듬성듬성하게 담을 건지가 sampling rate\n",
    "\n",
    "sampling rate를 만으로 규정한다면 1초동안 총 만개의 숫자를 담을 것이란 의미"
   ]
  }
 ],
 "metadata": {
  "kernelspec": {
   "display_name": "Python 3",
   "language": "python",
   "name": "python3"
  },
  "language_info": {
   "codemirror_mode": {
    "name": "ipython",
    "version": 3
   },
   "file_extension": ".py",
   "mimetype": "text/x-python",
   "name": "python",
   "nbconvert_exporter": "python",
   "pygments_lexer": "ipython3",
   "version": "3.7.3"
  }
 },
 "nbformat": 4,
 "nbformat_minor": 2
}
